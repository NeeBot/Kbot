{
  "nbformat": 4,
  "nbformat_minor": 0,
  "metadata": {
    "kernelspec": {
      "display_name": "Python 3",
      "language": "python",
      "name": "python3"
    },
    "language_info": {
      "codemirror_mode": {
        "name": "ipython",
        "version": 3
      },
      "file_extension": ".py",
      "mimetype": "text/x-python",
      "name": "python",
      "nbconvert_exporter": "python",
      "pygments_lexer": "ipython3",
      "version": "3.8.5"
    },
    "colab": {
      "name": "따릉이 실습파일 (교육생 용).ipynb",
      "provenance": [],
      "collapsed_sections": [],
      "toc_visible": true,
      "include_colab_link": true
    }
  },
  "cells": [
    {
      "cell_type": "markdown",
      "metadata": {
        "id": "view-in-github",
        "colab_type": "text"
      },
      "source": [
        "<a href=\"https://colab.research.google.com/github/NeeBot/Kbot/blob/master/%EB%94%B0%EB%A6%89%EC%9D%B4_%EC%8B%A4%EC%8A%B5%ED%8C%8C%EC%9D%BC_(%EA%B5%90%EC%9C%A1%EC%83%9D_%EC%9A%A9).ipynb\" target=\"_parent\"><img src=\"https://colab.research.google.com/assets/colab-badge.svg\" alt=\"Open In Colab\"/></a>"
      ]
    },
    {
      "cell_type": "markdown",
      "metadata": {
        "id": "bjoKnRV2OZd4"
      },
      "source": [
        "# 데이터 불러오기"
      ]
    },
    {
      "cell_type": "code",
      "metadata": {
        "id": "9uSVomWSOZd6"
      },
      "source": [
        "import pandas as pd\n",
        "\n",
        "train = pd.read_csv('train.csv')\n",
        "test = pd.read_csv('test.csv')"
      ],
      "execution_count": null,
      "outputs": []
    },
    {
      "cell_type": "markdown",
      "metadata": {
        "id": "t-gWhPWaOZd7"
      },
      "source": [
        "# EDA"
      ]
    },
    {
      "cell_type": "code",
      "metadata": {
        "colab": {
          "base_uri": "https://localhost:8080/",
          "height": 383
        },
        "id": "xJrpddWHOZd7",
        "outputId": "56ed1ace-6658-44c9-84a2-a6d11d41cc08"
      },
      "source": [
        "# 상위 5개의 데이터 미리보기\n",
        "train.head(10)"
      ],
      "execution_count": null,
      "outputs": [
        {
          "output_type": "execute_result",
          "data": {
            "text/html": [
              "<div>\n",
              "<style scoped>\n",
              "    .dataframe tbody tr th:only-of-type {\n",
              "        vertical-align: middle;\n",
              "    }\n",
              "\n",
              "    .dataframe tbody tr th {\n",
              "        vertical-align: top;\n",
              "    }\n",
              "\n",
              "    .dataframe thead th {\n",
              "        text-align: right;\n",
              "    }\n",
              "</style>\n",
              "<table border=\"1\" class=\"dataframe\">\n",
              "  <thead>\n",
              "    <tr style=\"text-align: right;\">\n",
              "      <th></th>\n",
              "      <th>id</th>\n",
              "      <th>hour</th>\n",
              "      <th>hour_bef_temperature</th>\n",
              "      <th>hour_bef_precipitation</th>\n",
              "      <th>hour_bef_windspeed</th>\n",
              "      <th>hour_bef_humidity</th>\n",
              "      <th>hour_bef_visibility</th>\n",
              "      <th>hour_bef_ozone</th>\n",
              "      <th>hour_bef_pm10</th>\n",
              "      <th>hour_bef_pm2.5</th>\n",
              "      <th>count</th>\n",
              "    </tr>\n",
              "  </thead>\n",
              "  <tbody>\n",
              "    <tr>\n",
              "      <th>0</th>\n",
              "      <td>3</td>\n",
              "      <td>20</td>\n",
              "      <td>16.3</td>\n",
              "      <td>1.0</td>\n",
              "      <td>1.5</td>\n",
              "      <td>89.0</td>\n",
              "      <td>576.0</td>\n",
              "      <td>0.027</td>\n",
              "      <td>76.0</td>\n",
              "      <td>33.0</td>\n",
              "      <td>49.0</td>\n",
              "    </tr>\n",
              "    <tr>\n",
              "      <th>1</th>\n",
              "      <td>6</td>\n",
              "      <td>13</td>\n",
              "      <td>20.1</td>\n",
              "      <td>0.0</td>\n",
              "      <td>1.4</td>\n",
              "      <td>48.0</td>\n",
              "      <td>916.0</td>\n",
              "      <td>0.042</td>\n",
              "      <td>73.0</td>\n",
              "      <td>40.0</td>\n",
              "      <td>159.0</td>\n",
              "    </tr>\n",
              "    <tr>\n",
              "      <th>2</th>\n",
              "      <td>7</td>\n",
              "      <td>6</td>\n",
              "      <td>13.9</td>\n",
              "      <td>0.0</td>\n",
              "      <td>0.7</td>\n",
              "      <td>79.0</td>\n",
              "      <td>1382.0</td>\n",
              "      <td>0.033</td>\n",
              "      <td>32.0</td>\n",
              "      <td>19.0</td>\n",
              "      <td>26.0</td>\n",
              "    </tr>\n",
              "    <tr>\n",
              "      <th>3</th>\n",
              "      <td>8</td>\n",
              "      <td>23</td>\n",
              "      <td>8.1</td>\n",
              "      <td>0.0</td>\n",
              "      <td>2.7</td>\n",
              "      <td>54.0</td>\n",
              "      <td>946.0</td>\n",
              "      <td>0.040</td>\n",
              "      <td>75.0</td>\n",
              "      <td>64.0</td>\n",
              "      <td>57.0</td>\n",
              "    </tr>\n",
              "    <tr>\n",
              "      <th>4</th>\n",
              "      <td>9</td>\n",
              "      <td>18</td>\n",
              "      <td>29.5</td>\n",
              "      <td>0.0</td>\n",
              "      <td>4.8</td>\n",
              "      <td>7.0</td>\n",
              "      <td>2000.0</td>\n",
              "      <td>0.057</td>\n",
              "      <td>27.0</td>\n",
              "      <td>11.0</td>\n",
              "      <td>431.0</td>\n",
              "    </tr>\n",
              "    <tr>\n",
              "      <th>5</th>\n",
              "      <td>13</td>\n",
              "      <td>2</td>\n",
              "      <td>13.6</td>\n",
              "      <td>0.0</td>\n",
              "      <td>1.7</td>\n",
              "      <td>80.0</td>\n",
              "      <td>1073.0</td>\n",
              "      <td>0.027</td>\n",
              "      <td>34.0</td>\n",
              "      <td>15.0</td>\n",
              "      <td>39.0</td>\n",
              "    </tr>\n",
              "    <tr>\n",
              "      <th>6</th>\n",
              "      <td>14</td>\n",
              "      <td>3</td>\n",
              "      <td>10.6</td>\n",
              "      <td>0.0</td>\n",
              "      <td>1.5</td>\n",
              "      <td>58.0</td>\n",
              "      <td>1548.0</td>\n",
              "      <td>0.038</td>\n",
              "      <td>62.0</td>\n",
              "      <td>33.0</td>\n",
              "      <td>23.0</td>\n",
              "    </tr>\n",
              "    <tr>\n",
              "      <th>7</th>\n",
              "      <td>16</td>\n",
              "      <td>21</td>\n",
              "      <td>16.0</td>\n",
              "      <td>0.0</td>\n",
              "      <td>6.0</td>\n",
              "      <td>21.0</td>\n",
              "      <td>1961.0</td>\n",
              "      <td>0.050</td>\n",
              "      <td>90.0</td>\n",
              "      <td>28.0</td>\n",
              "      <td>146.0</td>\n",
              "    </tr>\n",
              "    <tr>\n",
              "      <th>8</th>\n",
              "      <td>19</td>\n",
              "      <td>9</td>\n",
              "      <td>13.8</td>\n",
              "      <td>0.0</td>\n",
              "      <td>1.9</td>\n",
              "      <td>64.0</td>\n",
              "      <td>1344.0</td>\n",
              "      <td>0.039</td>\n",
              "      <td>93.0</td>\n",
              "      <td>19.0</td>\n",
              "      <td>39.0</td>\n",
              "    </tr>\n",
              "    <tr>\n",
              "      <th>9</th>\n",
              "      <td>20</td>\n",
              "      <td>14</td>\n",
              "      <td>17.2</td>\n",
              "      <td>0.0</td>\n",
              "      <td>2.1</td>\n",
              "      <td>32.0</td>\n",
              "      <td>1571.0</td>\n",
              "      <td>0.025</td>\n",
              "      <td>64.0</td>\n",
              "      <td>19.0</td>\n",
              "      <td>83.0</td>\n",
              "    </tr>\n",
              "  </tbody>\n",
              "</table>\n",
              "</div>"
            ],
            "text/plain": [
              "   id  hour  hour_bef_temperature  ...  hour_bef_pm10  hour_bef_pm2.5  count\n",
              "0   3    20                  16.3  ...           76.0            33.0   49.0\n",
              "1   6    13                  20.1  ...           73.0            40.0  159.0\n",
              "2   7     6                  13.9  ...           32.0            19.0   26.0\n",
              "3   8    23                   8.1  ...           75.0            64.0   57.0\n",
              "4   9    18                  29.5  ...           27.0            11.0  431.0\n",
              "5  13     2                  13.6  ...           34.0            15.0   39.0\n",
              "6  14     3                  10.6  ...           62.0            33.0   23.0\n",
              "7  16    21                  16.0  ...           90.0            28.0  146.0\n",
              "8  19     9                  13.8  ...           93.0            19.0   39.0\n",
              "9  20    14                  17.2  ...           64.0            19.0   83.0\n",
              "\n",
              "[10 rows x 11 columns]"
            ]
          },
          "metadata": {},
          "execution_count": 3
        }
      ]
    },
    {
      "cell_type": "code",
      "metadata": {
        "colab": {
          "base_uri": "https://localhost:8080/",
          "height": 383
        },
        "id": "K3lEwJPlOZd7",
        "outputId": "68f6a46a-bf17-46b0-cc92-c56ada8d939d"
      },
      "source": [
        "# 하위 5개의 데이터 미리보기 -> 테스트 데이터라 count 데이터 없음\n",
        "test.tail(10)"
      ],
      "execution_count": null,
      "outputs": [
        {
          "output_type": "execute_result",
          "data": {
            "text/html": [
              "<div>\n",
              "<style scoped>\n",
              "    .dataframe tbody tr th:only-of-type {\n",
              "        vertical-align: middle;\n",
              "    }\n",
              "\n",
              "    .dataframe tbody tr th {\n",
              "        vertical-align: top;\n",
              "    }\n",
              "\n",
              "    .dataframe thead th {\n",
              "        text-align: right;\n",
              "    }\n",
              "</style>\n",
              "<table border=\"1\" class=\"dataframe\">\n",
              "  <thead>\n",
              "    <tr style=\"text-align: right;\">\n",
              "      <th></th>\n",
              "      <th>id</th>\n",
              "      <th>hour</th>\n",
              "      <th>hour_bef_temperature</th>\n",
              "      <th>hour_bef_precipitation</th>\n",
              "      <th>hour_bef_windspeed</th>\n",
              "      <th>hour_bef_humidity</th>\n",
              "      <th>hour_bef_visibility</th>\n",
              "      <th>hour_bef_ozone</th>\n",
              "      <th>hour_bef_pm10</th>\n",
              "      <th>hour_bef_pm2.5</th>\n",
              "    </tr>\n",
              "  </thead>\n",
              "  <tbody>\n",
              "    <tr>\n",
              "      <th>705</th>\n",
              "      <td>2141</td>\n",
              "      <td>17</td>\n",
              "      <td>27.8</td>\n",
              "      <td>0.0</td>\n",
              "      <td>1.5</td>\n",
              "      <td>27.0</td>\n",
              "      <td>2000.0</td>\n",
              "      <td>0.068</td>\n",
              "      <td>27.0</td>\n",
              "      <td>17.0</td>\n",
              "    </tr>\n",
              "    <tr>\n",
              "      <th>706</th>\n",
              "      <td>2143</td>\n",
              "      <td>2</td>\n",
              "      <td>21.0</td>\n",
              "      <td>0.0</td>\n",
              "      <td>2.3</td>\n",
              "      <td>70.0</td>\n",
              "      <td>724.0</td>\n",
              "      <td>0.034</td>\n",
              "      <td>44.0</td>\n",
              "      <td>34.0</td>\n",
              "    </tr>\n",
              "    <tr>\n",
              "      <th>707</th>\n",
              "      <td>2145</td>\n",
              "      <td>0</td>\n",
              "      <td>20.0</td>\n",
              "      <td>0.0</td>\n",
              "      <td>1.5</td>\n",
              "      <td>66.0</td>\n",
              "      <td>1549.0</td>\n",
              "      <td>0.031</td>\n",
              "      <td>34.0</td>\n",
              "      <td>21.0</td>\n",
              "    </tr>\n",
              "    <tr>\n",
              "      <th>708</th>\n",
              "      <td>2146</td>\n",
              "      <td>3</td>\n",
              "      <td>21.6</td>\n",
              "      <td>0.0</td>\n",
              "      <td>2.6</td>\n",
              "      <td>41.0</td>\n",
              "      <td>2000.0</td>\n",
              "      <td>0.044</td>\n",
              "      <td>25.0</td>\n",
              "      <td>16.0</td>\n",
              "    </tr>\n",
              "    <tr>\n",
              "      <th>709</th>\n",
              "      <td>2147</td>\n",
              "      <td>18</td>\n",
              "      <td>24.3</td>\n",
              "      <td>0.0</td>\n",
              "      <td>4.1</td>\n",
              "      <td>46.0</td>\n",
              "      <td>1246.0</td>\n",
              "      <td>0.063</td>\n",
              "      <td>35.0</td>\n",
              "      <td>28.0</td>\n",
              "    </tr>\n",
              "    <tr>\n",
              "      <th>710</th>\n",
              "      <td>2148</td>\n",
              "      <td>1</td>\n",
              "      <td>24.6</td>\n",
              "      <td>0.0</td>\n",
              "      <td>2.4</td>\n",
              "      <td>60.0</td>\n",
              "      <td>1745.0</td>\n",
              "      <td>NaN</td>\n",
              "      <td>NaN</td>\n",
              "      <td>NaN</td>\n",
              "    </tr>\n",
              "    <tr>\n",
              "      <th>711</th>\n",
              "      <td>2149</td>\n",
              "      <td>1</td>\n",
              "      <td>18.1</td>\n",
              "      <td>0.0</td>\n",
              "      <td>1.0</td>\n",
              "      <td>55.0</td>\n",
              "      <td>2000.0</td>\n",
              "      <td>NaN</td>\n",
              "      <td>NaN</td>\n",
              "      <td>NaN</td>\n",
              "    </tr>\n",
              "    <tr>\n",
              "      <th>712</th>\n",
              "      <td>2165</td>\n",
              "      <td>9</td>\n",
              "      <td>23.3</td>\n",
              "      <td>0.0</td>\n",
              "      <td>2.3</td>\n",
              "      <td>66.0</td>\n",
              "      <td>1789.0</td>\n",
              "      <td>0.020</td>\n",
              "      <td>17.0</td>\n",
              "      <td>15.0</td>\n",
              "    </tr>\n",
              "    <tr>\n",
              "      <th>713</th>\n",
              "      <td>2166</td>\n",
              "      <td>16</td>\n",
              "      <td>27.0</td>\n",
              "      <td>0.0</td>\n",
              "      <td>1.6</td>\n",
              "      <td>46.0</td>\n",
              "      <td>1956.0</td>\n",
              "      <td>0.032</td>\n",
              "      <td>40.0</td>\n",
              "      <td>26.0</td>\n",
              "    </tr>\n",
              "    <tr>\n",
              "      <th>714</th>\n",
              "      <td>2177</td>\n",
              "      <td>8</td>\n",
              "      <td>22.3</td>\n",
              "      <td>0.0</td>\n",
              "      <td>1.0</td>\n",
              "      <td>63.0</td>\n",
              "      <td>1277.0</td>\n",
              "      <td>0.007</td>\n",
              "      <td>30.0</td>\n",
              "      <td>24.0</td>\n",
              "    </tr>\n",
              "  </tbody>\n",
              "</table>\n",
              "</div>"
            ],
            "text/plain": [
              "       id  hour  ...  hour_bef_pm10  hour_bef_pm2.5\n",
              "705  2141    17  ...           27.0            17.0\n",
              "706  2143     2  ...           44.0            34.0\n",
              "707  2145     0  ...           34.0            21.0\n",
              "708  2146     3  ...           25.0            16.0\n",
              "709  2147    18  ...           35.0            28.0\n",
              "710  2148     1  ...            NaN             NaN\n",
              "711  2149     1  ...            NaN             NaN\n",
              "712  2165     9  ...           17.0            15.0\n",
              "713  2166    16  ...           40.0            26.0\n",
              "714  2177     8  ...           30.0            24.0\n",
              "\n",
              "[10 rows x 10 columns]"
            ]
          },
          "metadata": {},
          "execution_count": 5
        }
      ]
    },
    {
      "cell_type": "code",
      "metadata": {
        "colab": {
          "base_uri": "https://localhost:8080/",
          "height": 206
        },
        "id": "4RrtBQhFPTt_",
        "outputId": "58432f2e-b177-4ffa-c765-66eff44733da"
      },
      "source": [
        "submission = pd.read_csv('submission.csv')\n",
        "submission.tail()"
      ],
      "execution_count": null,
      "outputs": [
        {
          "output_type": "execute_result",
          "data": {
            "text/html": [
              "<div>\n",
              "<style scoped>\n",
              "    .dataframe tbody tr th:only-of-type {\n",
              "        vertical-align: middle;\n",
              "    }\n",
              "\n",
              "    .dataframe tbody tr th {\n",
              "        vertical-align: top;\n",
              "    }\n",
              "\n",
              "    .dataframe thead th {\n",
              "        text-align: right;\n",
              "    }\n",
              "</style>\n",
              "<table border=\"1\" class=\"dataframe\">\n",
              "  <thead>\n",
              "    <tr style=\"text-align: right;\">\n",
              "      <th></th>\n",
              "      <th>id</th>\n",
              "      <th>count</th>\n",
              "    </tr>\n",
              "  </thead>\n",
              "  <tbody>\n",
              "    <tr>\n",
              "      <th>710</th>\n",
              "      <td>2148</td>\n",
              "      <td>NaN</td>\n",
              "    </tr>\n",
              "    <tr>\n",
              "      <th>711</th>\n",
              "      <td>2149</td>\n",
              "      <td>NaN</td>\n",
              "    </tr>\n",
              "    <tr>\n",
              "      <th>712</th>\n",
              "      <td>2165</td>\n",
              "      <td>NaN</td>\n",
              "    </tr>\n",
              "    <tr>\n",
              "      <th>713</th>\n",
              "      <td>2166</td>\n",
              "      <td>NaN</td>\n",
              "    </tr>\n",
              "    <tr>\n",
              "      <th>714</th>\n",
              "      <td>2177</td>\n",
              "      <td>NaN</td>\n",
              "    </tr>\n",
              "  </tbody>\n",
              "</table>\n",
              "</div>"
            ],
            "text/plain": [
              "       id  count\n",
              "710  2148    NaN\n",
              "711  2149    NaN\n",
              "712  2165    NaN\n",
              "713  2166    NaN\n",
              "714  2177    NaN"
            ]
          },
          "metadata": {},
          "execution_count": 7
        }
      ]
    },
    {
      "cell_type": "code",
      "metadata": {
        "colab": {
          "base_uri": "https://localhost:8080/"
        },
        "id": "MHudyvqHOZd7",
        "outputId": "ceb2f0e9-8253-4c28-8be8-b0fcac58dce5"
      },
      "source": [
        "# 행 갯수, 열 갯수(count of column)\n",
        "train.shape"
      ],
      "execution_count": null,
      "outputs": [
        {
          "output_type": "execute_result",
          "data": {
            "text/plain": [
              "(1459, 11)"
            ]
          },
          "metadata": {},
          "execution_count": 9
        }
      ]
    },
    {
      "cell_type": "code",
      "metadata": {
        "colab": {
          "base_uri": "https://localhost:8080/"
        },
        "id": "dbjsxWkpOZd8",
        "outputId": "8212effd-6c8a-425b-959f-e43937264552"
      },
      "source": [
        "# 행 갯수, 열갯수(count of column)\n",
        "test.shape"
      ],
      "execution_count": null,
      "outputs": [
        {
          "output_type": "execute_result",
          "data": {
            "text/plain": [
              "(715, 10)"
            ]
          },
          "metadata": {},
          "execution_count": 10
        }
      ]
    },
    {
      "cell_type": "code",
      "metadata": {
        "colab": {
          "base_uri": "https://localhost:8080/"
        },
        "id": "8GvlzVWlOZd8",
        "outputId": "546e92b2-2b37-4c2e-9b1d-f65ffa349717"
      },
      "source": [
        "train.info()"
      ],
      "execution_count": null,
      "outputs": [
        {
          "output_type": "stream",
          "name": "stdout",
          "text": [
            "<class 'pandas.core.frame.DataFrame'>\n",
            "RangeIndex: 1459 entries, 0 to 1458\n",
            "Data columns (total 11 columns):\n",
            " #   Column                  Non-Null Count  Dtype  \n",
            "---  ------                  --------------  -----  \n",
            " 0   id                      1459 non-null   int64  \n",
            " 1   hour                    1459 non-null   int64  \n",
            " 2   hour_bef_temperature    1457 non-null   float64\n",
            " 3   hour_bef_precipitation  1457 non-null   float64\n",
            " 4   hour_bef_windspeed      1450 non-null   float64\n",
            " 5   hour_bef_humidity       1457 non-null   float64\n",
            " 6   hour_bef_visibility     1457 non-null   float64\n",
            " 7   hour_bef_ozone          1383 non-null   float64\n",
            " 8   hour_bef_pm10           1369 non-null   float64\n",
            " 9   hour_bef_pm2.5          1342 non-null   float64\n",
            " 10  count                   1459 non-null   float64\n",
            "dtypes: float64(9), int64(2)\n",
            "memory usage: 125.5 KB\n"
          ]
        }
      ]
    },
    {
      "cell_type": "code",
      "metadata": {
        "colab": {
          "base_uri": "https://localhost:8080/"
        },
        "id": "0ABH9UNwOZd9",
        "outputId": "7e504ab1-f9eb-4d39-8d69-da5eb63a8d44"
      },
      "source": [
        "# 자주 사용하는 결측치 확인 방법 -> 기억해두기\n",
        "train.isnull().sum()"
      ],
      "execution_count": null,
      "outputs": [
        {
          "output_type": "execute_result",
          "data": {
            "text/plain": [
              "id                          0\n",
              "hour                        0\n",
              "hour_bef_temperature        2\n",
              "hour_bef_precipitation      2\n",
              "hour_bef_windspeed          9\n",
              "hour_bef_humidity           2\n",
              "hour_bef_visibility         2\n",
              "hour_bef_ozone             76\n",
              "hour_bef_pm10              90\n",
              "hour_bef_pm2.5            117\n",
              "count                       0\n",
              "dtype: int64"
            ]
          },
          "metadata": {},
          "execution_count": 20
        }
      ]
    },
    {
      "cell_type": "code",
      "metadata": {
        "colab": {
          "base_uri": "https://localhost:8080/",
          "height": 320
        },
        "id": "S1iKN7E9OZd9",
        "outputId": "a17d3ac2-fa0c-44b2-92e8-8b9ed16837a9"
      },
      "source": [
        "train.describe()"
      ],
      "execution_count": null,
      "outputs": [
        {
          "output_type": "execute_result",
          "data": {
            "text/html": [
              "<div>\n",
              "<style scoped>\n",
              "    .dataframe tbody tr th:only-of-type {\n",
              "        vertical-align: middle;\n",
              "    }\n",
              "\n",
              "    .dataframe tbody tr th {\n",
              "        vertical-align: top;\n",
              "    }\n",
              "\n",
              "    .dataframe thead th {\n",
              "        text-align: right;\n",
              "    }\n",
              "</style>\n",
              "<table border=\"1\" class=\"dataframe\">\n",
              "  <thead>\n",
              "    <tr style=\"text-align: right;\">\n",
              "      <th></th>\n",
              "      <th>id</th>\n",
              "      <th>hour</th>\n",
              "      <th>hour_bef_temperature</th>\n",
              "      <th>hour_bef_precipitation</th>\n",
              "      <th>hour_bef_windspeed</th>\n",
              "      <th>hour_bef_humidity</th>\n",
              "      <th>hour_bef_visibility</th>\n",
              "      <th>hour_bef_ozone</th>\n",
              "      <th>hour_bef_pm10</th>\n",
              "      <th>hour_bef_pm2.5</th>\n",
              "      <th>count</th>\n",
              "    </tr>\n",
              "  </thead>\n",
              "  <tbody>\n",
              "    <tr>\n",
              "      <th>count</th>\n",
              "      <td>1459.000000</td>\n",
              "      <td>1459.000000</td>\n",
              "      <td>1457.000000</td>\n",
              "      <td>1457.000000</td>\n",
              "      <td>1450.000000</td>\n",
              "      <td>1457.000000</td>\n",
              "      <td>1457.000000</td>\n",
              "      <td>1383.000000</td>\n",
              "      <td>1369.000000</td>\n",
              "      <td>1342.000000</td>\n",
              "      <td>1459.000000</td>\n",
              "    </tr>\n",
              "    <tr>\n",
              "      <th>mean</th>\n",
              "      <td>1105.914325</td>\n",
              "      <td>11.493489</td>\n",
              "      <td>16.717433</td>\n",
              "      <td>0.031572</td>\n",
              "      <td>2.479034</td>\n",
              "      <td>52.231297</td>\n",
              "      <td>1405.216884</td>\n",
              "      <td>0.039149</td>\n",
              "      <td>57.168736</td>\n",
              "      <td>30.327124</td>\n",
              "      <td>108.563400</td>\n",
              "    </tr>\n",
              "    <tr>\n",
              "      <th>std</th>\n",
              "      <td>631.338681</td>\n",
              "      <td>6.922790</td>\n",
              "      <td>5.239150</td>\n",
              "      <td>0.174917</td>\n",
              "      <td>1.378265</td>\n",
              "      <td>20.370387</td>\n",
              "      <td>583.131708</td>\n",
              "      <td>0.019509</td>\n",
              "      <td>31.771019</td>\n",
              "      <td>14.713252</td>\n",
              "      <td>82.631733</td>\n",
              "    </tr>\n",
              "    <tr>\n",
              "      <th>min</th>\n",
              "      <td>3.000000</td>\n",
              "      <td>0.000000</td>\n",
              "      <td>3.100000</td>\n",
              "      <td>0.000000</td>\n",
              "      <td>0.000000</td>\n",
              "      <td>7.000000</td>\n",
              "      <td>78.000000</td>\n",
              "      <td>0.003000</td>\n",
              "      <td>9.000000</td>\n",
              "      <td>8.000000</td>\n",
              "      <td>1.000000</td>\n",
              "    </tr>\n",
              "    <tr>\n",
              "      <th>25%</th>\n",
              "      <td>555.500000</td>\n",
              "      <td>5.500000</td>\n",
              "      <td>12.800000</td>\n",
              "      <td>0.000000</td>\n",
              "      <td>1.400000</td>\n",
              "      <td>36.000000</td>\n",
              "      <td>879.000000</td>\n",
              "      <td>0.025500</td>\n",
              "      <td>36.000000</td>\n",
              "      <td>20.000000</td>\n",
              "      <td>37.000000</td>\n",
              "    </tr>\n",
              "    <tr>\n",
              "      <th>50%</th>\n",
              "      <td>1115.000000</td>\n",
              "      <td>11.000000</td>\n",
              "      <td>16.600000</td>\n",
              "      <td>0.000000</td>\n",
              "      <td>2.300000</td>\n",
              "      <td>51.000000</td>\n",
              "      <td>1577.000000</td>\n",
              "      <td>0.039000</td>\n",
              "      <td>51.000000</td>\n",
              "      <td>26.000000</td>\n",
              "      <td>96.000000</td>\n",
              "    </tr>\n",
              "    <tr>\n",
              "      <th>75%</th>\n",
              "      <td>1651.000000</td>\n",
              "      <td>17.500000</td>\n",
              "      <td>20.100000</td>\n",
              "      <td>0.000000</td>\n",
              "      <td>3.400000</td>\n",
              "      <td>69.000000</td>\n",
              "      <td>1994.000000</td>\n",
              "      <td>0.052000</td>\n",
              "      <td>69.000000</td>\n",
              "      <td>37.000000</td>\n",
              "      <td>150.000000</td>\n",
              "    </tr>\n",
              "    <tr>\n",
              "      <th>max</th>\n",
              "      <td>2179.000000</td>\n",
              "      <td>23.000000</td>\n",
              "      <td>30.000000</td>\n",
              "      <td>1.000000</td>\n",
              "      <td>8.000000</td>\n",
              "      <td>99.000000</td>\n",
              "      <td>2000.000000</td>\n",
              "      <td>0.125000</td>\n",
              "      <td>269.000000</td>\n",
              "      <td>90.000000</td>\n",
              "      <td>431.000000</td>\n",
              "    </tr>\n",
              "  </tbody>\n",
              "</table>\n",
              "</div>"
            ],
            "text/plain": [
              "                id         hour  ...  hour_bef_pm2.5        count\n",
              "count  1459.000000  1459.000000  ...     1342.000000  1459.000000\n",
              "mean   1105.914325    11.493489  ...       30.327124   108.563400\n",
              "std     631.338681     6.922790  ...       14.713252    82.631733\n",
              "min       3.000000     0.000000  ...        8.000000     1.000000\n",
              "25%     555.500000     5.500000  ...       20.000000    37.000000\n",
              "50%    1115.000000    11.000000  ...       26.000000    96.000000\n",
              "75%    1651.000000    17.500000  ...       37.000000   150.000000\n",
              "max    2179.000000    23.000000  ...       90.000000   431.000000\n",
              "\n",
              "[8 rows x 11 columns]"
            ]
          },
          "metadata": {},
          "execution_count": 14
        }
      ]
    },
    {
      "cell_type": "code",
      "metadata": {
        "id": "c68ZjZQNOZd9"
      },
      "source": [
        ""
      ],
      "execution_count": null,
      "outputs": []
    },
    {
      "cell_type": "markdown",
      "metadata": {
        "id": "qQ8iON8VOZd9"
      },
      "source": [
        "## 시각화 해보기"
      ]
    },
    {
      "cell_type": "code",
      "metadata": {
        "colab": {
          "base_uri": "https://localhost:8080/",
          "height": 297
        },
        "id": "Ew4AF4K8OZd-",
        "outputId": "96678854-0799-4e32-9012-b9bfb117e0fb"
      },
      "source": [
        "import seaborn as sns\n",
        "import matplotlib.pyplot as plt\n",
        "\n",
        "# 히스토그램\n",
        "sns.histplot(x = train['count'])"
      ],
      "execution_count": null,
      "outputs": [
        {
          "output_type": "execute_result",
          "data": {
            "text/plain": [
              "<matplotlib.axes._subplots.AxesSubplot at 0x7f39ba4d0fd0>"
            ]
          },
          "metadata": {},
          "execution_count": 17
        },
        {
          "output_type": "display_data",
          "data": {
            "image/png": "[encoded data removed]",
            "text/plain": [
              "<Figure size 432x288 with 1 Axes>"
            ]
          },
          "metadata": {
            "needs_background": "light"
          }
        }
      ]
    },
    {
      "cell_type": "code",
      "metadata": {
        "colab": {
          "base_uri": "https://localhost:8080/",
          "height": 301
        },
        "id": "afrOELMpOZd-",
        "outputId": "d77e9c19-d18b-4b0d-cddf-e40727425b49"
      },
      "source": [
        "sns.barplot(x = 'hour', y = 'count', data = train)"
      ],
      "execution_count": null,
      "outputs": [
        {
          "output_type": "execute_result",
          "data": {
            "text/plain": [
              "<matplotlib.axes._subplots.AxesSubplot at 0x7f39b8c89c50>"
            ]
          },
          "metadata": {},
          "execution_count": 18
        },
        {
          "output_type": "display_data",
          "data": {
            "image/png": "[encoded data removed]",
            "text/plain": [
              "<Figure size 432x288 with 1 Axes>"
            ]
          },
          "metadata": {
            "needs_background": "light"
          }
        }
      ]
    },
    {
      "cell_type": "code",
      "metadata": {
        "colab": {
          "base_uri": "https://localhost:8080/",
          "height": 824
        },
        "id": "RmKBcv-3OZd-",
        "outputId": "44aa8deb-7c94-44cd-fbcd-6ab8e40610c5"
      },
      "source": [
        "plt.figure(figsize = (12,12))\n",
        "sns.heatmap(train.corr())"
      ],
      "execution_count": null,
      "outputs": [
        {
          "output_type": "execute_result",
          "data": {
            "text/plain": [
              "<matplotlib.axes._subplots.AxesSubplot at 0x7f39b8c64d90>"
            ]
          },
          "metadata": {},
          "execution_count": 19
        },
        {
          "output_type": "display_data",
          "data": {
            "image/png": "[encoded data removed]",
            "text/plain": [
              "<Figure size 864x864 with 2 Axes>"
            ]
          },
          "metadata": {
            "needs_background": "light"
          }
        }
      ]
    },
    {
      "cell_type": "markdown",
      "metadata": {
        "id": "wXvde6OSOZd-"
      },
      "source": [
        "# 데이터 전처리"
      ]
    },
    {
      "cell_type": "code",
      "metadata": {
        "colab": {
          "base_uri": "https://localhost:8080/"
        },
        "id": "nO1L54pVOZd-",
        "outputId": "1d834640-a81f-4fc9-893e-d0e05e7e9475"
      },
      "source": [
        "train.isnull().sum()"
      ],
      "execution_count": null,
      "outputs": [
        {
          "output_type": "execute_result",
          "data": {
            "text/plain": [
              "id                          0\n",
              "hour                        0\n",
              "hour_bef_temperature        2\n",
              "hour_bef_precipitation      2\n",
              "hour_bef_windspeed          9\n",
              "hour_bef_humidity           2\n",
              "hour_bef_visibility         2\n",
              "hour_bef_ozone             76\n",
              "hour_bef_pm10              90\n",
              "hour_bef_pm2.5            117\n",
              "count                       0\n",
              "dtype: int64"
            ]
          },
          "metadata": {},
          "execution_count": 21
        }
      ]
    },
    {
      "cell_type": "code",
      "metadata": {
        "colab": {
          "base_uri": "https://localhost:8080/"
        },
        "id": "qIyMEFUEOZd-",
        "outputId": "1fe68fa5-0b3b-40b5-9aff-b1366ac11e99"
      },
      "source": [
        "# 결측치 0으로 채워줌\n",
        "train = train.fillna(0)\n",
        "train.isnull().sum()"
      ],
      "execution_count": null,
      "outputs": [
        {
          "output_type": "execute_result",
          "data": {
            "text/plain": [
              "id                        0\n",
              "hour                      0\n",
              "hour_bef_temperature      0\n",
              "hour_bef_precipitation    0\n",
              "hour_bef_windspeed        0\n",
              "hour_bef_humidity         0\n",
              "hour_bef_visibility       0\n",
              "hour_bef_ozone            0\n",
              "hour_bef_pm10             0\n",
              "hour_bef_pm2.5            0\n",
              "count                     0\n",
              "dtype: int64"
            ]
          },
          "metadata": {},
          "execution_count": 24
        }
      ]
    },
    {
      "cell_type": "code",
      "metadata": {
        "colab": {
          "base_uri": "https://localhost:8080/"
        },
        "id": "P4ZTtIajOZd_",
        "outputId": "0199cc91-5da3-4b43-b28f-d8ce201d0aa3"
      },
      "source": [
        "# 결측치를 평균값으로 채워줌\n",
        "train['hour_bef_pm10'].fillna(value = train ['hour_bef_pm10'].mean())"
      ],
      "execution_count": null,
      "outputs": [
        {
          "output_type": "execute_result",
          "data": {
            "text/plain": [
              "0       76.0\n",
              "1       73.0\n",
              "2       32.0\n",
              "3       75.0\n",
              "4       27.0\n",
              "        ... \n",
              "1454    37.0\n",
              "1455    34.0\n",
              "1456    30.0\n",
              "1457    71.0\n",
              "1458    38.0\n",
              "Name: hour_bef_pm10, Length: 1459, dtype: float64"
            ]
          },
          "metadata": {},
          "execution_count": 29
        }
      ]
    },
    {
      "cell_type": "code",
      "metadata": {
        "id": "9RC2NvXmOZd_"
      },
      "source": [
        "test = test.fillna(0)"
      ],
      "execution_count": null,
      "outputs": []
    },
    {
      "cell_type": "code",
      "metadata": {
        "id": "YVl9RsceOZd_"
      },
      "source": [
        ""
      ],
      "execution_count": null,
      "outputs": []
    },
    {
      "cell_type": "markdown",
      "metadata": {
        "id": "r6gUnfwLOZd_"
      },
      "source": [
        "# 모델링"
      ]
    },
    {
      "cell_type": "code",
      "metadata": {
        "colab": {
          "base_uri": "https://localhost:8080/"
        },
        "id": "_S4yv9GXOZd_",
        "outputId": "390ac96d-259f-4750-ef8e-817f7e46331c"
      },
      "source": [
        "from sklearn.ensemble import RandomForestRegressor\n",
        "\n",
        "X = train.drop('count', axis = 1)\n",
        "y = train['count']\n",
        "\n",
        "# 모델 정의\n",
        "model = RandomForestRegressor()\n",
        "\n",
        "# 모델 학습\n",
        "model.fit(X,y)"
      ],
      "execution_count": null,
      "outputs": [
        {
          "output_type": "execute_result",
          "data": {
            "text/plain": [
              "RandomForestRegressor(bootstrap=True, ccp_alpha=0.0, criterion='mse',\n",
              "                      max_depth=None, max_features='auto', max_leaf_nodes=None,\n",
              "                      max_samples=None, min_impurity_decrease=0.0,\n",
              "                      min_impurity_split=None, min_samples_leaf=1,\n",
              "                      min_samples_split=2, min_weight_fraction_leaf=0.0,\n",
              "                      n_estimators=100, n_jobs=None, oob_score=False,\n",
              "                      random_state=None, verbose=0, warm_start=False)"
            ]
          },
          "metadata": {},
          "execution_count": 40
        }
      ]
    },
    {
      "cell_type": "code",
      "metadata": {
        "id": "pW5EY2ILOZeA"
      },
      "source": [
        "pred = model.predict(test)"
      ],
      "execution_count": null,
      "outputs": []
    },
    {
      "cell_type": "markdown",
      "metadata": {
        "id": "nbnisl2GOZeA"
      },
      "source": [
        "## 정답파일 내보내기"
      ]
    },
    {
      "cell_type": "code",
      "metadata": {
        "id": "BPYP3dcpOZeA"
      },
      "source": [
        "# submission의 count 변수에 예측한 pred 값을 채워줌.\n",
        "submission['count'] = pred\n",
        "\n",
        "# to_csv 메소드를 이용해 데이터 저장, index = False 옵션 항상 사용.\n",
        "submission.to_csv('random.csv', index = False)"
      ],
      "execution_count": null,
      "outputs": []
    },
    {
      "cell_type": "markdown",
      "metadata": {
        "id": "N72MWfhAOZeA"
      },
      "source": [
        "## K-fold"
      ]
    },
    {
      "cell_type": "code",
      "metadata": {
        "id": "OY_G9v_FOZeA"
      },
      "source": [
        "from sklearn.model_selection import KFold\n",
        "from sklearn.metrics import mean_squared_error\n",
        "import numpy as np\n",
        "# n_splits = 5 -> 데이터를 5등분, random_state -> 랜덤 시드\n",
        "kf = KFold(n_splits = 5, shuffle = True, random_state = 0)"
      ],
      "execution_count": null,
      "outputs": []
    },
    {
      "cell_type": "code",
      "metadata": {
        "id": "UDMBX2MvOZeA"
      },
      "source": [
        "model = RandomForestRegressor(random_state = 0)\n",
        "\n",
        "valid_score = []\n",
        "test_predictions = []"
      ],
      "execution_count": null,
      "outputs": []
    },
    {
      "cell_type": "code",
      "metadata": {
        "colab": {
          "base_uri": "https://localhost:8080/"
        },
        "id": "8XNVPu9KOZeA",
        "outputId": "0859f84d-67b7-4bc8-d976-4880f6758877"
      },
      "source": [
        "for train_idx, valid_idx in kf.split(X,y):\n",
        "  x_train = X.iloc[train_idx]\n",
        "  y_train = y.iloc[train_idx]\n",
        "\n",
        "  x_valid = X.iloc[valid_idx]\n",
        "  y_valid = y.iloc[valid_idx]\n",
        "\n",
        "  model.fit(x_train,y_train)\n",
        "\n",
        "  valid_prediction = model.predict(x_valid)\n",
        "  score = mean_squared_error(y_valid, valid_prediction) ** 0.5\n",
        "  valid_score.append(score)\n",
        "  print(score)\n",
        "print('평균 점수 : ', np.mean(valid_score))"
      ],
      "execution_count": null,
      "outputs": [
        {
          "output_type": "stream",
          "name": "stdout",
          "text": [
            "36.87975837884776\n",
            "40.98616549503382\n",
            "36.215308137487256\n",
            "41.49866007491927\n",
            "39.33966734485847\n",
            "평균 점수 :  38.983911886229315\n"
          ]
        }
      ]
    },
    {
      "cell_type": "code",
      "metadata": {
        "id": "R31dylvEOZeA"
      },
      "source": [
        "for train_idx, valid_idx in kf.split(X,y):\n",
        "  x_tr = X.iloc[train_idx]\n",
        "  y_tr = y.iloc[train_idx]\n",
        "\n",
        "  x_val = X.iloc[valid_idx]\n",
        "  y_val = y.iloc[valid_idx]\n",
        "\n",
        "  model.fit(x_tr,y_tr)\n",
        "\n",
        "  test_prediction = model.predict(test)\n",
        "  test_predictions.append(test_prediction)"
      ],
      "execution_count": null,
      "outputs": []
    },
    {
      "cell_type": "code",
      "metadata": {
        "colab": {
          "base_uri": "https://localhost:8080/",
          "height": 255
        },
        "id": "KgcVGgdWOZeA",
        "outputId": "f112693d-dc68-4be3-b926-9cf0880c9651"
      },
      "source": [
        "\n",
        "test_predictions = pd.DataFrame(test_predictions)\n",
        "test_predictions"
      ],
      "execution_count": null,
      "outputs": [
        {
          "output_type": "execute_result",
          "data": {
            "text/html": [
              "<div>\n",
              "<style scoped>\n",
              "    .dataframe tbody tr th:only-of-type {\n",
              "        vertical-align: middle;\n",
              "    }\n",
              "\n",
              "    .dataframe tbody tr th {\n",
              "        vertical-align: top;\n",
              "    }\n",
              "\n",
              "    .dataframe thead th {\n",
              "        text-align: right;\n",
              "    }\n",
              "</style>\n",
              "<table border=\"1\" class=\"dataframe\">\n",
              "  <thead>\n",
              "    <tr style=\"text-align: right;\">\n",
              "      <th></th>\n",
              "      <th>0</th>\n",
              "      <th>1</th>\n",
              "      <th>2</th>\n",
              "      <th>3</th>\n",
              "      <th>4</th>\n",
              "      <th>5</th>\n",
              "      <th>6</th>\n",
              "      <th>7</th>\n",
              "      <th>8</th>\n",
              "      <th>9</th>\n",
              "      <th>10</th>\n",
              "      <th>11</th>\n",
              "      <th>12</th>\n",
              "      <th>13</th>\n",
              "      <th>14</th>\n",
              "      <th>15</th>\n",
              "      <th>16</th>\n",
              "      <th>17</th>\n",
              "      <th>18</th>\n",
              "      <th>19</th>\n",
              "      <th>20</th>\n",
              "      <th>21</th>\n",
              "      <th>22</th>\n",
              "      <th>23</th>\n",
              "      <th>24</th>\n",
              "      <th>25</th>\n",
              "      <th>26</th>\n",
              "      <th>27</th>\n",
              "      <th>28</th>\n",
              "      <th>29</th>\n",
              "      <th>30</th>\n",
              "      <th>31</th>\n",
              "      <th>32</th>\n",
              "      <th>33</th>\n",
              "      <th>34</th>\n",
              "      <th>35</th>\n",
              "      <th>36</th>\n",
              "      <th>37</th>\n",
              "      <th>38</th>\n",
              "      <th>39</th>\n",
              "      <th>...</th>\n",
              "      <th>675</th>\n",
              "      <th>676</th>\n",
              "      <th>677</th>\n",
              "      <th>678</th>\n",
              "      <th>679</th>\n",
              "      <th>680</th>\n",
              "      <th>681</th>\n",
              "      <th>682</th>\n",
              "      <th>683</th>\n",
              "      <th>684</th>\n",
              "      <th>685</th>\n",
              "      <th>686</th>\n",
              "      <th>687</th>\n",
              "      <th>688</th>\n",
              "      <th>689</th>\n",
              "      <th>690</th>\n",
              "      <th>691</th>\n",
              "      <th>692</th>\n",
              "      <th>693</th>\n",
              "      <th>694</th>\n",
              "      <th>695</th>\n",
              "      <th>696</th>\n",
              "      <th>697</th>\n",
              "      <th>698</th>\n",
              "      <th>699</th>\n",
              "      <th>700</th>\n",
              "      <th>701</th>\n",
              "      <th>702</th>\n",
              "      <th>703</th>\n",
              "      <th>704</th>\n",
              "      <th>705</th>\n",
              "      <th>706</th>\n",
              "      <th>707</th>\n",
              "      <th>708</th>\n",
              "      <th>709</th>\n",
              "      <th>710</th>\n",
              "      <th>711</th>\n",
              "      <th>712</th>\n",
              "      <th>713</th>\n",
              "      <th>714</th>\n",
              "    </tr>\n",
              "  </thead>\n",
              "  <tbody>\n",
              "    <tr>\n",
              "      <th>0</th>\n",
              "      <td>112.50</td>\n",
              "      <td>215.34</td>\n",
              "      <td>102.83</td>\n",
              "      <td>27.82</td>\n",
              "      <td>72.95</td>\n",
              "      <td>115.11</td>\n",
              "      <td>168.84</td>\n",
              "      <td>304.63</td>\n",
              "      <td>30.46</td>\n",
              "      <td>116.47</td>\n",
              "      <td>284.06</td>\n",
              "      <td>223.63</td>\n",
              "      <td>109.31</td>\n",
              "      <td>37.98</td>\n",
              "      <td>214.75</td>\n",
              "      <td>128.86</td>\n",
              "      <td>24.82</td>\n",
              "      <td>190.91</td>\n",
              "      <td>331.62</td>\n",
              "      <td>158.23</td>\n",
              "      <td>215.14</td>\n",
              "      <td>85.61</td>\n",
              "      <td>15.86</td>\n",
              "      <td>139.13</td>\n",
              "      <td>142.14</td>\n",
              "      <td>116.30</td>\n",
              "      <td>27.32</td>\n",
              "      <td>115.15</td>\n",
              "      <td>108.85</td>\n",
              "      <td>137.58</td>\n",
              "      <td>75.26</td>\n",
              "      <td>28.26</td>\n",
              "      <td>67.88</td>\n",
              "      <td>140.12</td>\n",
              "      <td>280.18</td>\n",
              "      <td>30.19</td>\n",
              "      <td>143.90</td>\n",
              "      <td>93.24</td>\n",
              "      <td>186.18</td>\n",
              "      <td>62.73</td>\n",
              "      <td>...</td>\n",
              "      <td>151.70</td>\n",
              "      <td>28.77</td>\n",
              "      <td>167.11</td>\n",
              "      <td>17.35</td>\n",
              "      <td>30.56</td>\n",
              "      <td>16.97</td>\n",
              "      <td>227.96</td>\n",
              "      <td>103.79</td>\n",
              "      <td>138.39</td>\n",
              "      <td>244.15</td>\n",
              "      <td>132.50</td>\n",
              "      <td>111.02</td>\n",
              "      <td>28.98</td>\n",
              "      <td>165.31</td>\n",
              "      <td>17.24</td>\n",
              "      <td>145.45</td>\n",
              "      <td>30.55</td>\n",
              "      <td>34.42</td>\n",
              "      <td>101.62</td>\n",
              "      <td>51.68</td>\n",
              "      <td>189.08</td>\n",
              "      <td>20.55</td>\n",
              "      <td>99.97</td>\n",
              "      <td>183.76</td>\n",
              "      <td>30.72</td>\n",
              "      <td>298.67</td>\n",
              "      <td>232.24</td>\n",
              "      <td>17.98</td>\n",
              "      <td>333.96</td>\n",
              "      <td>114.00</td>\n",
              "      <td>211.52</td>\n",
              "      <td>36.85</td>\n",
              "      <td>81.21</td>\n",
              "      <td>28.91</td>\n",
              "      <td>280.05</td>\n",
              "      <td>60.09</td>\n",
              "      <td>54.22</td>\n",
              "      <td>114.15</td>\n",
              "      <td>170.86</td>\n",
              "      <td>172.17</td>\n",
              "    </tr>\n",
              "    <tr>\n",
              "      <th>1</th>\n",
              "      <td>89.45</td>\n",
              "      <td>263.98</td>\n",
              "      <td>82.27</td>\n",
              "      <td>28.32</td>\n",
              "      <td>54.89</td>\n",
              "      <td>128.71</td>\n",
              "      <td>187.44</td>\n",
              "      <td>320.43</td>\n",
              "      <td>30.37</td>\n",
              "      <td>120.35</td>\n",
              "      <td>304.49</td>\n",
              "      <td>260.49</td>\n",
              "      <td>109.42</td>\n",
              "      <td>35.87</td>\n",
              "      <td>213.88</td>\n",
              "      <td>171.87</td>\n",
              "      <td>23.88</td>\n",
              "      <td>191.79</td>\n",
              "      <td>357.08</td>\n",
              "      <td>158.54</td>\n",
              "      <td>243.94</td>\n",
              "      <td>71.35</td>\n",
              "      <td>20.29</td>\n",
              "      <td>140.44</td>\n",
              "      <td>139.83</td>\n",
              "      <td>115.60</td>\n",
              "      <td>29.08</td>\n",
              "      <td>123.74</td>\n",
              "      <td>117.17</td>\n",
              "      <td>182.39</td>\n",
              "      <td>63.26</td>\n",
              "      <td>29.30</td>\n",
              "      <td>68.09</td>\n",
              "      <td>131.97</td>\n",
              "      <td>283.22</td>\n",
              "      <td>27.89</td>\n",
              "      <td>138.74</td>\n",
              "      <td>107.79</td>\n",
              "      <td>200.61</td>\n",
              "      <td>63.31</td>\n",
              "      <td>...</td>\n",
              "      <td>134.22</td>\n",
              "      <td>30.07</td>\n",
              "      <td>159.39</td>\n",
              "      <td>16.49</td>\n",
              "      <td>32.95</td>\n",
              "      <td>17.08</td>\n",
              "      <td>253.95</td>\n",
              "      <td>104.03</td>\n",
              "      <td>156.91</td>\n",
              "      <td>255.75</td>\n",
              "      <td>142.77</td>\n",
              "      <td>133.08</td>\n",
              "      <td>27.59</td>\n",
              "      <td>164.45</td>\n",
              "      <td>17.05</td>\n",
              "      <td>145.86</td>\n",
              "      <td>34.27</td>\n",
              "      <td>35.37</td>\n",
              "      <td>105.83</td>\n",
              "      <td>48.71</td>\n",
              "      <td>200.62</td>\n",
              "      <td>22.22</td>\n",
              "      <td>73.70</td>\n",
              "      <td>205.28</td>\n",
              "      <td>35.41</td>\n",
              "      <td>311.65</td>\n",
              "      <td>274.96</td>\n",
              "      <td>17.86</td>\n",
              "      <td>368.51</td>\n",
              "      <td>121.51</td>\n",
              "      <td>246.51</td>\n",
              "      <td>42.91</td>\n",
              "      <td>86.13</td>\n",
              "      <td>31.42</td>\n",
              "      <td>277.02</td>\n",
              "      <td>53.05</td>\n",
              "      <td>65.38</td>\n",
              "      <td>124.62</td>\n",
              "      <td>151.52</td>\n",
              "      <td>157.54</td>\n",
              "    </tr>\n",
              "    <tr>\n",
              "      <th>2</th>\n",
              "      <td>90.23</td>\n",
              "      <td>239.52</td>\n",
              "      <td>75.09</td>\n",
              "      <td>28.66</td>\n",
              "      <td>51.42</td>\n",
              "      <td>123.66</td>\n",
              "      <td>199.83</td>\n",
              "      <td>319.49</td>\n",
              "      <td>30.43</td>\n",
              "      <td>144.32</td>\n",
              "      <td>326.80</td>\n",
              "      <td>289.78</td>\n",
              "      <td>112.13</td>\n",
              "      <td>38.06</td>\n",
              "      <td>214.32</td>\n",
              "      <td>180.85</td>\n",
              "      <td>26.93</td>\n",
              "      <td>162.35</td>\n",
              "      <td>359.68</td>\n",
              "      <td>200.62</td>\n",
              "      <td>232.82</td>\n",
              "      <td>83.11</td>\n",
              "      <td>21.30</td>\n",
              "      <td>134.73</td>\n",
              "      <td>165.41</td>\n",
              "      <td>114.93</td>\n",
              "      <td>24.89</td>\n",
              "      <td>117.52</td>\n",
              "      <td>112.54</td>\n",
              "      <td>160.44</td>\n",
              "      <td>79.24</td>\n",
              "      <td>27.62</td>\n",
              "      <td>69.06</td>\n",
              "      <td>132.47</td>\n",
              "      <td>269.35</td>\n",
              "      <td>29.51</td>\n",
              "      <td>137.43</td>\n",
              "      <td>71.92</td>\n",
              "      <td>209.92</td>\n",
              "      <td>91.72</td>\n",
              "      <td>...</td>\n",
              "      <td>173.06</td>\n",
              "      <td>29.82</td>\n",
              "      <td>178.57</td>\n",
              "      <td>20.17</td>\n",
              "      <td>25.17</td>\n",
              "      <td>18.33</td>\n",
              "      <td>217.12</td>\n",
              "      <td>114.91</td>\n",
              "      <td>193.54</td>\n",
              "      <td>254.88</td>\n",
              "      <td>152.44</td>\n",
              "      <td>141.17</td>\n",
              "      <td>24.60</td>\n",
              "      <td>161.78</td>\n",
              "      <td>16.91</td>\n",
              "      <td>141.48</td>\n",
              "      <td>28.93</td>\n",
              "      <td>32.68</td>\n",
              "      <td>92.07</td>\n",
              "      <td>48.46</td>\n",
              "      <td>204.55</td>\n",
              "      <td>23.23</td>\n",
              "      <td>95.10</td>\n",
              "      <td>174.30</td>\n",
              "      <td>30.93</td>\n",
              "      <td>304.78</td>\n",
              "      <td>263.00</td>\n",
              "      <td>18.67</td>\n",
              "      <td>359.58</td>\n",
              "      <td>121.10</td>\n",
              "      <td>252.79</td>\n",
              "      <td>34.36</td>\n",
              "      <td>86.07</td>\n",
              "      <td>28.63</td>\n",
              "      <td>246.23</td>\n",
              "      <td>52.88</td>\n",
              "      <td>70.61</td>\n",
              "      <td>117.99</td>\n",
              "      <td>165.11</td>\n",
              "      <td>165.37</td>\n",
              "    </tr>\n",
              "    <tr>\n",
              "      <th>3</th>\n",
              "      <td>97.04</td>\n",
              "      <td>238.05</td>\n",
              "      <td>88.97</td>\n",
              "      <td>26.97</td>\n",
              "      <td>63.75</td>\n",
              "      <td>127.17</td>\n",
              "      <td>176.11</td>\n",
              "      <td>319.37</td>\n",
              "      <td>25.66</td>\n",
              "      <td>108.43</td>\n",
              "      <td>294.66</td>\n",
              "      <td>274.60</td>\n",
              "      <td>100.67</td>\n",
              "      <td>47.16</td>\n",
              "      <td>209.91</td>\n",
              "      <td>169.25</td>\n",
              "      <td>24.35</td>\n",
              "      <td>135.76</td>\n",
              "      <td>359.95</td>\n",
              "      <td>162.72</td>\n",
              "      <td>214.61</td>\n",
              "      <td>88.86</td>\n",
              "      <td>21.12</td>\n",
              "      <td>164.75</td>\n",
              "      <td>151.41</td>\n",
              "      <td>112.84</td>\n",
              "      <td>28.68</td>\n",
              "      <td>117.32</td>\n",
              "      <td>107.43</td>\n",
              "      <td>156.81</td>\n",
              "      <td>69.67</td>\n",
              "      <td>28.75</td>\n",
              "      <td>72.00</td>\n",
              "      <td>143.01</td>\n",
              "      <td>264.19</td>\n",
              "      <td>25.99</td>\n",
              "      <td>131.40</td>\n",
              "      <td>105.66</td>\n",
              "      <td>243.90</td>\n",
              "      <td>79.02</td>\n",
              "      <td>...</td>\n",
              "      <td>146.49</td>\n",
              "      <td>27.19</td>\n",
              "      <td>146.90</td>\n",
              "      <td>17.95</td>\n",
              "      <td>29.97</td>\n",
              "      <td>19.68</td>\n",
              "      <td>205.47</td>\n",
              "      <td>100.76</td>\n",
              "      <td>176.43</td>\n",
              "      <td>247.33</td>\n",
              "      <td>134.92</td>\n",
              "      <td>127.65</td>\n",
              "      <td>26.68</td>\n",
              "      <td>129.73</td>\n",
              "      <td>19.48</td>\n",
              "      <td>140.15</td>\n",
              "      <td>33.92</td>\n",
              "      <td>29.88</td>\n",
              "      <td>94.06</td>\n",
              "      <td>57.21</td>\n",
              "      <td>199.19</td>\n",
              "      <td>23.08</td>\n",
              "      <td>97.85</td>\n",
              "      <td>196.96</td>\n",
              "      <td>32.10</td>\n",
              "      <td>323.21</td>\n",
              "      <td>267.44</td>\n",
              "      <td>19.49</td>\n",
              "      <td>351.67</td>\n",
              "      <td>136.48</td>\n",
              "      <td>260.80</td>\n",
              "      <td>49.23</td>\n",
              "      <td>94.72</td>\n",
              "      <td>30.97</td>\n",
              "      <td>260.72</td>\n",
              "      <td>63.39</td>\n",
              "      <td>69.20</td>\n",
              "      <td>119.79</td>\n",
              "      <td>181.85</td>\n",
              "      <td>150.00</td>\n",
              "    </tr>\n",
              "    <tr>\n",
              "      <th>4</th>\n",
              "      <td>86.04</td>\n",
              "      <td>261.24</td>\n",
              "      <td>98.89</td>\n",
              "      <td>28.44</td>\n",
              "      <td>61.79</td>\n",
              "      <td>129.89</td>\n",
              "      <td>149.94</td>\n",
              "      <td>267.11</td>\n",
              "      <td>25.18</td>\n",
              "      <td>115.58</td>\n",
              "      <td>310.13</td>\n",
              "      <td>268.64</td>\n",
              "      <td>141.16</td>\n",
              "      <td>34.36</td>\n",
              "      <td>207.13</td>\n",
              "      <td>157.32</td>\n",
              "      <td>23.03</td>\n",
              "      <td>188.25</td>\n",
              "      <td>333.28</td>\n",
              "      <td>169.10</td>\n",
              "      <td>227.41</td>\n",
              "      <td>77.46</td>\n",
              "      <td>16.76</td>\n",
              "      <td>139.30</td>\n",
              "      <td>152.29</td>\n",
              "      <td>115.60</td>\n",
              "      <td>23.24</td>\n",
              "      <td>118.20</td>\n",
              "      <td>120.71</td>\n",
              "      <td>163.87</td>\n",
              "      <td>66.98</td>\n",
              "      <td>24.06</td>\n",
              "      <td>65.91</td>\n",
              "      <td>136.26</td>\n",
              "      <td>294.53</td>\n",
              "      <td>25.89</td>\n",
              "      <td>137.72</td>\n",
              "      <td>104.64</td>\n",
              "      <td>224.62</td>\n",
              "      <td>74.86</td>\n",
              "      <td>...</td>\n",
              "      <td>151.65</td>\n",
              "      <td>22.52</td>\n",
              "      <td>208.08</td>\n",
              "      <td>18.89</td>\n",
              "      <td>27.81</td>\n",
              "      <td>18.10</td>\n",
              "      <td>232.78</td>\n",
              "      <td>103.19</td>\n",
              "      <td>167.35</td>\n",
              "      <td>255.37</td>\n",
              "      <td>135.78</td>\n",
              "      <td>125.32</td>\n",
              "      <td>26.51</td>\n",
              "      <td>188.86</td>\n",
              "      <td>17.55</td>\n",
              "      <td>149.94</td>\n",
              "      <td>33.03</td>\n",
              "      <td>25.38</td>\n",
              "      <td>104.32</td>\n",
              "      <td>49.38</td>\n",
              "      <td>199.50</td>\n",
              "      <td>19.46</td>\n",
              "      <td>85.74</td>\n",
              "      <td>190.89</td>\n",
              "      <td>26.90</td>\n",
              "      <td>284.51</td>\n",
              "      <td>275.85</td>\n",
              "      <td>16.14</td>\n",
              "      <td>335.73</td>\n",
              "      <td>118.68</td>\n",
              "      <td>260.96</td>\n",
              "      <td>40.05</td>\n",
              "      <td>81.58</td>\n",
              "      <td>30.64</td>\n",
              "      <td>249.31</td>\n",
              "      <td>51.15</td>\n",
              "      <td>57.65</td>\n",
              "      <td>127.24</td>\n",
              "      <td>156.63</td>\n",
              "      <td>209.97</td>\n",
              "    </tr>\n",
              "  </tbody>\n",
              "</table>\n",
              "<p>5 rows × 715 columns</p>\n",
              "</div>"
            ],
            "text/plain": [
              "      0       1       2      3      4    ...    710    711     712     713     714\n",
              "0  112.50  215.34  102.83  27.82  72.95  ...  60.09  54.22  114.15  170.86  172.17\n",
              "1   89.45  263.98   82.27  28.32  54.89  ...  53.05  65.38  124.62  151.52  157.54\n",
              "2   90.23  239.52   75.09  28.66  51.42  ...  52.88  70.61  117.99  165.11  165.37\n",
              "3   97.04  238.05   88.97  26.97  63.75  ...  63.39  69.20  119.79  181.85  150.00\n",
              "4   86.04  261.24   98.89  28.44  61.79  ...  51.15  57.65  127.24  156.63  209.97\n",
              "\n",
              "[5 rows x 715 columns]"
            ]
          },
          "metadata": {},
          "execution_count": 51
        }
      ]
    },
    {
      "cell_type": "code",
      "metadata": {
        "colab": {
          "base_uri": "https://localhost:8080/"
        },
        "id": "UsVo1EcxOZeA",
        "outputId": "be56517c-fa87-4009-95f6-5e87a6ba9c85"
      },
      "source": [
        "test_predictions.mean()"
      ],
      "execution_count": null,
      "outputs": [
        {
          "output_type": "execute_result",
          "data": {
            "text/plain": [
              "0       95.052\n",
              "1      243.626\n",
              "2       89.610\n",
              "3       28.042\n",
              "4       60.960\n",
              "        ...   \n",
              "710     56.112\n",
              "711     63.412\n",
              "712    120.758\n",
              "713    165.194\n",
              "714    171.010\n",
              "Length: 715, dtype: float64"
            ]
          },
          "metadata": {},
          "execution_count": 52
        }
      ]
    },
    {
      "cell_type": "code",
      "metadata": {
        "id": "iTVMSgNIOZeB"
      },
      "source": [
        "# submission의 count 변수에 예측한 pred 값을 채워줌.\n",
        "submission['count'] = test_predictions.mean()\n",
        "\n",
        "# to_csv 메소드를 이용해 데이터 저장, index = False 옵션 항상 사용.\n",
        "submission.to_csv('random_kfold.csv', index = False)"
      ],
      "execution_count": null,
      "outputs": []
    },
    {
      "cell_type": "code",
      "metadata": {
        "id": "FlMA78O9OZeB"
      },
      "source": [
        ""
      ],
      "execution_count": null,
      "outputs": []
    },
    {
      "cell_type": "markdown",
      "metadata": {
        "id": "0YiCvZg9OZeB"
      },
      "source": [
        "## 튜닝"
      ]
    },
    {
      "cell_type": "code",
      "metadata": {
        "colab": {
          "base_uri": "https://localhost:8080/"
        },
        "id": "iFYK8cgLOZeB",
        "outputId": "c988ad2a-2ec2-41cb-ec2f-b2dd20aba70a"
      },
      "source": [
        "from sklearn.model_selection import GridSearchCV\n",
        "\n",
        "model = RandomForestRegressor(random_state = 2021)\n",
        "\n",
        "params = {'n_estimators' : [100, 200, 300],\n",
        "          'max_features' : [5, 7, 10,],\n",
        "          'min_samples_leaf' : [1,3,5]}\n",
        "\n",
        "grid_cv = GridSearchCV(model, param_grid = params, cv = 5, verbose = 1)\n",
        "\n",
        "grid_cv.fit(X,y)\n"
      ],
      "execution_count": null,
      "outputs": [
        {
          "output_type": "stream",
          "name": "stdout",
          "text": [
            "Fitting 5 folds for each of 27 candidates, totalling 135 fits\n"
          ]
        },
        {
          "output_type": "stream",
          "name": "stderr",
          "text": [
            "[Parallel(n_jobs=1)]: Using backend SequentialBackend with 1 concurrent workers.\n",
            "[Parallel(n_jobs=1)]: Done 135 out of 135 | elapsed:  1.9min finished\n"
          ]
        },
        {
          "output_type": "execute_result",
          "data": {
            "text/plain": [
              "GridSearchCV(cv=5, error_score=nan,\n",
              "             estimator=RandomForestRegressor(bootstrap=True, ccp_alpha=0.0,\n",
              "                                             criterion='mse', max_depth=None,\n",
              "                                             max_features='auto',\n",
              "                                             max_leaf_nodes=None,\n",
              "                                             max_samples=None,\n",
              "                                             min_impurity_decrease=0.0,\n",
              "                                             min_impurity_split=None,\n",
              "                                             min_samples_leaf=1,\n",
              "                                             min_samples_split=2,\n",
              "                                             min_weight_fraction_leaf=0.0,\n",
              "                                             n_estimators=100, n_jobs=None,\n",
              "                                             oob_score=False, random_state=2021,\n",
              "                                             verbose=0, warm_start=False),\n",
              "             iid='deprecated', n_jobs=None,\n",
              "             param_grid={'max_features': [5, 7, 10],\n",
              "                         'min_samples_leaf': [1, 3, 5],\n",
              "                         'n_estimators': [100, 200, 300]},\n",
              "             pre_dispatch='2*n_jobs', refit=True, return_train_score=False,\n",
              "             scoring=None, verbose=1)"
            ]
          },
          "metadata": {},
          "execution_count": 59
        }
      ]
    },
    {
      "cell_type": "code",
      "metadata": {
        "id": "WLAiEMlbOZeB"
      },
      "source": [
        "pred = grid_cv.predict(test)"
      ],
      "execution_count": null,
      "outputs": []
    },
    {
      "cell_type": "code",
      "metadata": {
        "id": "I_nVKjNtOZeB"
      },
      "source": [
        "# submission의 count 변수에 예측한 pred 값을 채워줌.\n",
        "submission['count'] = pred\n",
        "\n",
        "# to_csv 메소드를 이용해 데이터 저장, index = False 옵션 항상 사용.\n",
        "submission.to_csv('random_tune.csv', index = False)"
      ],
      "execution_count": null,
      "outputs": []
    }
  ]
}